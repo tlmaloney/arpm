{
 "metadata": {
  "name": "",
  "signature": "sha256:6af94991c3ffd75dea803d4adabd7171aa2835cc1ad2a8748ccdb32fa2f59cb6"
 },
 "nbformat": 3,
 "nbformat_minor": 0,
 "worksheets": [
  {
   "cells": [
    {
     "cell_type": "code",
     "collapsed": false,
     "input": [
      "import numpy as np\n",
      "from numpy.random import multivariate_normal\n",
      "from statsmodels.sandbox.tools.tools_pca import pca"
     ],
     "language": "python",
     "metadata": {},
     "outputs": [],
     "prompt_number": 1
    },
    {
     "cell_type": "code",
     "collapsed": false,
     "input": [
      "N = 5\n",
      "T = 30"
     ],
     "language": "python",
     "metadata": {},
     "outputs": [],
     "prompt_number": 2
    },
    {
     "cell_type": "code",
     "collapsed": false,
     "input": [
      "# Generate location vector\n",
      "mu = np.random.random((N, ))\n",
      "mu"
     ],
     "language": "python",
     "metadata": {},
     "outputs": [
      {
       "metadata": {},
       "output_type": "pyout",
       "prompt_number": 3,
       "text": [
        "array([ 0.02072014,  0.12289882,  0.06206039,  0.34764353,  0.44415815])"
       ]
      }
     ],
     "prompt_number": 3
    },
    {
     "cell_type": "code",
     "collapsed": false,
     "input": [
      "# Generate positive definite scatter matrix\n",
      "a = np.random.random((N, N)) - 0.5\n",
      "sigma = a.dot(a.transpose())\n",
      "sigma"
     ],
     "language": "python",
     "metadata": {},
     "outputs": [
      {
       "metadata": {},
       "output_type": "pyout",
       "prompt_number": 4,
       "text": [
        "array([[ 0.50073738,  0.03404562, -0.17006262,  0.25329904, -0.13465667],\n",
        "       [ 0.03404562,  0.20993599,  0.03075158,  0.10753176,  0.06858403],\n",
        "       [-0.17006262,  0.03075158,  0.35152983, -0.05930031, -0.03495844],\n",
        "       [ 0.25329904,  0.10753176, -0.05930031,  0.34633888,  0.13702047],\n",
        "       [-0.13465667,  0.06858403, -0.03495844,  0.13702047,  0.35049609]])"
       ]
      }
     ],
     "prompt_number": 4
    },
    {
     "cell_type": "code",
     "collapsed": false,
     "input": [
      "num_experiments = 100\n",
      "\n",
      "# Create list of samples\n",
      "samples = [multivariate_normal(mu, sigma, T) for _ in range(num_experiments)]"
     ],
     "language": "python",
     "metadata": {},
     "outputs": [],
     "prompt_number": 5
    },
    {
     "cell_type": "markdown",
     "metadata": {},
     "source": [
      "### Calculate error for sample covariance estimator"
     ]
    },
    {
     "cell_type": "code",
     "collapsed": false,
     "input": [
      "total_error_squared = (1.0 / T) * (np.trace(sigma * sigma) + (1 - 1.0 / T) * np.trace(sigma) ** 2)\n",
      "print total_error_squared"
     ],
     "language": "python",
     "metadata": {},
     "outputs": [
      {
       "output_type": "stream",
       "stream": "stdout",
       "text": [
        "0.121741904476\n"
       ]
      }
     ],
     "prompt_number": 6
    },
    {
     "cell_type": "markdown",
     "metadata": {},
     "source": [
      "### Calculate average error for shrinkage covariance estimator"
     ]
    },
    {
     "cell_type": "code",
     "collapsed": false,
     "input": [
      "def shrinkage_covariance(x, N, T):\n",
      "    # Sample estimates\n",
      "    mu_hat = np.average(x, axis=0)\n",
      "    sigma_hat = np.cov(x.transpose()) * (T-1) / T\n",
      "    \n",
      "    # Perform principal component analysis, and get the eigenvalues\n",
      "    evals = pca(x)[2]\n",
      "    \n",
      "    c = np.ones((N, N)) * np.sum(evals) / N\n",
      "    \n",
      "    sum = 0\n",
      "    for i in xrange(T):\n",
      "        sum += np.trace((x[i] * x[i].transpose() - sigma_hat) ** 2)\n",
      "    alpha = (1.0 / T) * ((1.0 / T) * sum) / np.trace((sigma_hat - c) ** 2)\n",
      "    \n",
      "    # Restrict to optimal weight\n",
      "    alpha = np.min([alpha, 1])\n",
      "    \n",
      "    mu_s = (1 - alpha) * mu_hat + alpha * c # shrinkage estimate for mean\n",
      "    return mu_s"
     ],
     "language": "python",
     "metadata": {},
     "outputs": [],
     "prompt_number": 7
    },
    {
     "cell_type": "code",
     "collapsed": false,
     "input": [
      "total_error_squared = 0\n",
      "for i in range(num_experiments):\n",
      "    x = samples[i]\n",
      "    sigma_s = shrinkage_covariance(x, N, T)\n",
      "    sample_error = np.trace((sigma_s - sigma) ** 2)\n",
      "    total_error_squared += sample_error\n",
      "print total_error_squared / num_experiments"
     ],
     "language": "python",
     "metadata": {},
     "outputs": [
      {
       "output_type": "stream",
       "stream": "stdout",
       "text": [
        "0.0782991068421\n"
       ]
      }
     ],
     "prompt_number": 8
    },
    {
     "cell_type": "code",
     "collapsed": false,
     "input": [],
     "language": "python",
     "metadata": {},
     "outputs": [],
     "prompt_number": 8
    }
   ],
   "metadata": {}
  }
 ]
}