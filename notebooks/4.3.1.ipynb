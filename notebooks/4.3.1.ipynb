{
 "metadata": {
  "name": "",
  "signature": "sha256:f57886add37c98364b4866e2682e31825be861e02e062c1888f6f5688a0c49b1"
 },
 "nbformat": 3,
 "nbformat_minor": 0,
 "worksheets": [
  {
   "cells": [
    {
     "cell_type": "code",
     "collapsed": false,
     "input": [
      "import numpy as np\n",
      "from numpy.random import multivariate_normal\n",
      "from sklearn.decomposition import PCA\n",
      "import statsmodels"
     ],
     "language": "python",
     "metadata": {},
     "outputs": [],
     "prompt_number": 1
    },
    {
     "cell_type": "code",
     "collapsed": false,
     "input": [
      "N = 5\n",
      "T = 30"
     ],
     "language": "python",
     "metadata": {},
     "outputs": [],
     "prompt_number": 2
    },
    {
     "cell_type": "code",
     "collapsed": false,
     "input": [
      "# Generate location vector\n",
      "mu = np.random.random((N, ))\n",
      "mu"
     ],
     "language": "python",
     "metadata": {},
     "outputs": [
      {
       "metadata": {},
       "output_type": "pyout",
       "prompt_number": 3,
       "text": [
        "array([ 0.91405116,  0.35717043,  0.17446383,  0.85274673,  0.14527528])"
       ]
      }
     ],
     "prompt_number": 3
    },
    {
     "cell_type": "code",
     "collapsed": false,
     "input": [
      "# Generate positive definite scatter matrix\n",
      "a = np.random.random((N, N)) - 0.5\n",
      "sigma = a.dot(a.transpose())\n",
      "sigma"
     ],
     "language": "python",
     "metadata": {},
     "outputs": [
      {
       "metadata": {},
       "output_type": "pyout",
       "prompt_number": 4,
       "text": [
        "array([[ 0.30547842, -0.32853122,  0.28492711,  0.11243145, -0.00056229],\n",
        "       [-0.32853122,  0.4733532 , -0.28626329, -0.08688338,  0.07321289],\n",
        "       [ 0.28492711, -0.28626329,  0.41698446,  0.2480895 ,  0.16589841],\n",
        "       [ 0.11243145, -0.08688338,  0.2480895 ,  0.36821778,  0.03498579],\n",
        "       [-0.00056229,  0.07321289,  0.16589841,  0.03498579,  0.31369974]])"
       ]
      }
     ],
     "prompt_number": 4
    },
    {
     "cell_type": "markdown",
     "metadata": {},
     "source": [
      "### Calculate error for sample mean estimator"
     ]
    },
    {
     "cell_type": "code",
     "collapsed": false,
     "input": [
      "# Calculate (4.136)\n",
      "np.trace(sigma) / T"
     ],
     "language": "python",
     "metadata": {},
     "outputs": [
      {
       "metadata": {},
       "output_type": "pyout",
       "prompt_number": 5,
       "text": [
        "0.062591119766085695"
       ]
      }
     ],
     "prompt_number": 5
    },
    {
     "cell_type": "code",
     "collapsed": false,
     "input": [
      "num_experiments = 100\n",
      "\n",
      "# Create list of samples\n",
      "samples = [multivariate_normal(mu, sigma, T) for _ in range(num_experiments)]"
     ],
     "language": "python",
     "metadata": {},
     "outputs": [],
     "prompt_number": 6
    },
    {
     "cell_type": "code",
     "collapsed": false,
     "input": [
      "total_error_squared = 0\n",
      "for i in range(num_experiments):\n",
      "    x = samples[i]\n",
      "    # Sample mean\n",
      "    sample_mean = np.average(x, axis=0)\n",
      "    sample_error = np.linalg.norm(sample_mean - mu) ** 2\n",
      "    total_error_squared += sample_error\n",
      "print total_error_squared / num_experiments"
     ],
     "language": "python",
     "metadata": {},
     "outputs": [
      {
       "output_type": "stream",
       "stream": "stdout",
       "text": [
        "0.0449518344529\n"
       ]
      }
     ],
     "prompt_number": 7
    },
    {
     "cell_type": "markdown",
     "metadata": {},
     "source": [
      "### Calculate error for shrinkage mean estimator"
     ]
    },
    {
     "cell_type": "code",
     "collapsed": false,
     "input": [
      "def shrinkage_mean(x, N, T):\n",
      "    # Sample estimates\n",
      "    mu_hat = np.average(x, axis=0)\n",
      "    sigma_hat = np.cov(x.transpose()) * (T-1) / T\n",
      "    \n",
      "    evals = np.linalg.eig(sigma_hat)[0]\n",
      "    \n",
      "    b = 0 * np.ones(N) # Constant vector\n",
      "\n",
      "    lambda_bar = np.average(evals)\n",
      "    lambda_1 = np.max(evals)\n",
      "    alpha = (N * lambda_bar - 2 * lambda_1) / (T * np.dot(mu_hat - b, mu_hat - b))\n",
      "    # Restrict to optimal weight\n",
      "    alpha = np.max([0, np.min([alpha, 1])])\n",
      "    mu_s = (1 - alpha) * mu_hat + alpha * b # shrinkage estimate for mean\n",
      "    return mu_s"
     ],
     "language": "python",
     "metadata": {},
     "outputs": [],
     "prompt_number": 8
    },
    {
     "cell_type": "code",
     "collapsed": false,
     "input": [
      "total_error_squared = 0\n",
      "for i in range(num_experiments):\n",
      "    x = samples[i]\n",
      "    mu_s = shrinkage_mean(x, N, T)\n",
      "    sample_error = np.linalg.norm(mu_s - mu) ** 2\n",
      "    total_error_squared += sample_error\n",
      "print total_error_squared / num_experiments"
     ],
     "language": "python",
     "metadata": {},
     "outputs": [
      {
       "output_type": "stream",
       "stream": "stdout",
       "text": [
        "0.0449418926024\n"
       ]
      }
     ],
     "prompt_number": 9
    }
   ],
   "metadata": {}
  }
 ]
}