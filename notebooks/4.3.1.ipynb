{
 "metadata": {
  "name": "",
  "signature": "sha256:168b8b90e8e1a6e525f13088efeb3779f357b30066ff0421e5c644b1ab95e05e"
 },
 "nbformat": 3,
 "nbformat_minor": 0,
 "worksheets": [
  {
   "cells": [
    {
     "cell_type": "code",
     "collapsed": false,
     "input": [
      "import numpy as np\n",
      "from numpy.random import multivariate_normal\n",
      "from statsmodels.sandbox.tools.tools_pca import pca"
     ],
     "language": "python",
     "metadata": {},
     "outputs": [],
     "prompt_number": 1
    },
    {
     "cell_type": "code",
     "collapsed": false,
     "input": [
      "N = 5\n",
      "T = 30"
     ],
     "language": "python",
     "metadata": {},
     "outputs": [],
     "prompt_number": 2
    },
    {
     "cell_type": "code",
     "collapsed": false,
     "input": [
      "# Generate location vector\n",
      "mu = np.random.random((N, ))\n",
      "mu"
     ],
     "language": "python",
     "metadata": {},
     "outputs": [
      {
       "metadata": {},
       "output_type": "pyout",
       "prompt_number": 3,
       "text": [
        "array([ 0.5129735 ,  0.03964491,  0.91779516,  0.48722201,  0.87896379])"
       ]
      }
     ],
     "prompt_number": 3
    },
    {
     "cell_type": "code",
     "collapsed": false,
     "input": [
      "# Generate positive definite scatter matrix\n",
      "a = np.random.random((N, N)) - 0.5\n",
      "sigma = a.dot(a.transpose())\n",
      "sigma"
     ],
     "language": "python",
     "metadata": {},
     "outputs": [
      {
       "metadata": {},
       "output_type": "pyout",
       "prompt_number": 4,
       "text": [
        "array([[ 0.8082284 , -0.26836743, -0.3094499 ,  0.23330679,  0.11613217],\n",
        "       [-0.26836743,  0.65863876,  0.22713506, -0.33308517, -0.54284085],\n",
        "       [-0.3094499 ,  0.22713506,  0.2611953 , -0.02754946, -0.13937446],\n",
        "       [ 0.23330679, -0.33308517, -0.02754946,  0.47722431,  0.15419115],\n",
        "       [ 0.11613217, -0.54284085, -0.13937446,  0.15419115,  0.57723674]])"
       ]
      }
     ],
     "prompt_number": 4
    },
    {
     "cell_type": "code",
     "collapsed": false,
     "input": [
      "num_experiments = 100\n",
      "\n",
      "# Create list of samples\n",
      "samples = [multivariate_normal(mu, sigma, T) for _ in range(num_experiments)]"
     ],
     "language": "python",
     "metadata": {},
     "outputs": [],
     "prompt_number": 5
    },
    {
     "cell_type": "markdown",
     "metadata": {},
     "source": [
      "### Calculate average error for sample mean estimator"
     ]
    },
    {
     "cell_type": "code",
     "collapsed": false,
     "input": [
      "# Calculate (4.136)\n",
      "np.trace(sigma) / T"
     ],
     "language": "python",
     "metadata": {},
     "outputs": [
      {
       "metadata": {},
       "output_type": "pyout",
       "prompt_number": 6,
       "text": [
        "0.092750783641229781"
       ]
      }
     ],
     "prompt_number": 6
    },
    {
     "cell_type": "code",
     "collapsed": false,
     "input": [
      "total_error_squared = 0\n",
      "for i in range(num_experiments):\n",
      "    x = samples[i]\n",
      "    # Sample mean\n",
      "    sample_mean = np.average(x, axis=0)\n",
      "    sample_error = np.linalg.norm(sample_mean - mu) ** 2\n",
      "    total_error_squared += sample_error\n",
      "print total_error_squared / num_experiments"
     ],
     "language": "python",
     "metadata": {},
     "outputs": [
      {
       "output_type": "stream",
       "stream": "stdout",
       "text": [
        "0.0900261279228\n"
       ]
      }
     ],
     "prompt_number": 7
    },
    {
     "cell_type": "markdown",
     "metadata": {},
     "source": [
      "### Calculate average error for shrinkage mean estimator"
     ]
    },
    {
     "cell_type": "code",
     "collapsed": false,
     "input": [
      "def shrinkage_mean(x, N, T):\n",
      "    # Sample estimates\n",
      "    mu_hat = np.average(x, axis=0)\n",
      "    sigma_hat = np.cov(x.transpose()) * (T-1) / T\n",
      "    \n",
      "    evals = np.linalg.eig(sigma_hat)[0]\n",
      "    \n",
      "    b = 0 * np.ones(N) # Constant vector\n",
      "\n",
      "    lambda_bar = np.average(evals)\n",
      "    lambda_1 = np.max(evals)\n",
      "    alpha = (N * lambda_bar - 2 * lambda_1) / (T * np.dot(mu_hat - b, mu_hat - b))\n",
      "    # Restrict to optimal weight\n",
      "    alpha = np.max([0, np.min([alpha, 1])])\n",
      "    mu_s = (1 - alpha) * mu_hat + alpha * b # shrinkage estimate for mean\n",
      "    return mu_s"
     ],
     "language": "python",
     "metadata": {},
     "outputs": [],
     "prompt_number": 8
    },
    {
     "cell_type": "code",
     "collapsed": false,
     "input": [
      "total_error_squared = 0\n",
      "for i in range(num_experiments):\n",
      "    x = samples[i]\n",
      "    mu_s = shrinkage_mean(x, N, T)\n",
      "    sample_error = np.linalg.norm(mu_s - mu) ** 2\n",
      "    total_error_squared += sample_error\n",
      "print total_error_squared / num_experiments"
     ],
     "language": "python",
     "metadata": {},
     "outputs": [
      {
       "output_type": "stream",
       "stream": "stdout",
       "text": [
        "0.090023222018\n"
       ]
      }
     ],
     "prompt_number": 9
    },
    {
     "cell_type": "code",
     "collapsed": false,
     "input": [],
     "language": "python",
     "metadata": {},
     "outputs": [],
     "prompt_number": 12
    }
   ],
   "metadata": {}
  }
 ]
}